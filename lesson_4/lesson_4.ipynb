{
 "cells": [
  {
   "metadata": {},
   "cell_type": "markdown",
   "source": [
    "# HOMEWORK 4\n",
    "\n",
    "For this homework you are going to implement a lane line detector. Lane line detection is crucial for ADAS (Advanced Driver Assistance Systems) systems and, in particular, for LKA (Lane Keep Assist). You will use a [picture](https://en.wikipedia.org/wiki/Lane_departure_warning_system) from a front facing camera (mounted on the car) and will implement the following steps:\n",
    "* Convert image to gray scale\n",
    "* Compute edge map\n",
    "* Apply Hough transform to obtain line parametrizations"
   ],
   "id": "136429d297f94105"
  },
  {
   "metadata": {},
   "cell_type": "code",
   "outputs": [],
   "execution_count": null,
   "source": [
    "import cv2\n",
    "import math\n",
    "import numpy as np\n",
    "from matplotlib import pyplot as plt\n",
    "plt.rcParams['figure.figsize'] = [15, 10]"
   ],
   "id": "4dba00ecf08a5b57"
  },
  {
   "metadata": {},
   "cell_type": "markdown",
   "source": "Let's load and show the camera frame.",
   "id": "184620cb3965c28d"
  },
  {
   "metadata": {},
   "cell_type": "code",
   "outputs": [],
   "execution_count": null,
   "source": [
    "img = cv2.imread('dashcam.jpg')\n",
    "img = cv2.cvtColor(img, cv2.COLOR_BGR2RGB)\n",
    "img = cv2.resize(img, None, fx=0.5, fy=0.5)\n",
    "plt.imshow(img)"
   ],
   "id": "4821124a2c5453d7"
  },
  {
   "metadata": {},
   "cell_type": "code",
   "outputs": [],
   "execution_count": null,
   "source": [
    "# Convert image to gray scale\n",
    "gray = cv2.cvtColor(img, cv2.COLOR_RGB2GRAY)"
   ],
   "id": "79f40332678167b0"
  },
  {
   "metadata": {},
   "cell_type": "code",
   "outputs": [],
   "execution_count": null,
   "source": [
    "# Obtain edge map\n",
    "# Hint: you can use Canny edge detector with th_low = 100, th_high = 150\n",
    "edges =\n",
    "\n",
    "# We are only interseted in the road so we will remove everything above the horizon\n",
    "edges[0:350] = 0"
   ],
   "id": "e33052589bb55be"
  },
  {
   "metadata": {},
   "cell_type": "code",
   "outputs": [],
   "execution_count": null,
   "source": [
    "# Let's plot the images\n",
    "plt.subplot(121), plt.imshow(img), plt.title('Original')\n",
    "plt.subplot(122), plt.imshow(edges, cmap='gray'), plt.title('Edge map')"
   ],
   "id": "6e9429e93e218fe"
  },
  {
   "metadata": {},
   "cell_type": "code",
   "outputs": [],
   "execution_count": null,
   "source": [
    "# Apply Hough transform to parametrize the lines\n",
    "# Hint 1: Offset resolution of 2 pixels and slope resolution of 2 degrees work well in this case\n",
    "# Hint 2: A suitable value for the accumulator threshold is 190\n",
    "lines = \n",
    "# Let's get rid of the unnecessary dimension\n",
    "lines = lines[:, 0, :]"
   ],
   "id": "8a4a13df2b3421d0"
  },
  {
   "metadata": {},
   "cell_type": "code",
   "outputs": [],
   "execution_count": null,
   "source": [
    "# Plot the resulting Hough lines\n",
    "result = np.copy(img)\n",
    "        \n",
    "for line in lines:\n",
    "    rho = \n",
    "    theta = \n",
    "    \n",
    "    a = math.cos(theta)\n",
    "    b = math.sin(theta)\n",
    "    \n",
    "    x0 = a * rho\n",
    "    y0 = b * rho\n",
    "    \n",
    "    pt1 = (int(x0 + 1000*(-b)), int(y0 + 1000*(a)))\n",
    "    pt2 = (int(x0 - 1000*(-b)), int(y0 - 1000*(a)))\n",
    "    \n",
    "    cv2.line(result, pt1, pt2, 255, 1, cv2.LINE_AA)\n",
    "\n",
    "plt.subplot(121), plt.imshow(edges, cmap='gray'), plt.title('Edge map')\n",
    "plt.subplot(122), plt.imshow(result, cmap='gray'), plt.title('Hough lines')"
   ],
   "id": "a4c3e6eb74c28bc6"
  },
  {
   "metadata": {},
   "cell_type": "markdown",
   "source": "The edge map looks good but the Hough lines are too noisy. Let's clean the Hough lines first by removing all lines that we know cannot represent a lane line. In other words, all lines that are approximately horizontal shall be removed. Remember that horizontal lines correspond to theta = 90 degrees.",
   "id": "f7d4da4e1eec775a"
  },
  {
   "metadata": {},
   "cell_type": "code",
   "outputs": [],
   "execution_count": null,
   "source": [
    "# Filter out all lines that are approximately horizontal (+/- 20 degrees). \n",
    "filtered_lines = []\n",
    "for line in lines:\n",
    "    # Extract theta for current line (remember Hough works with radians)\n",
    "    theta = \n",
    "    # Keep line if theta is not horizontal\n",
    "    if ...\n",
    "        filtered_lines.append(line)"
   ],
   "id": "5ff3968b2a40a7a5"
  },
  {
   "metadata": {},
   "cell_type": "code",
   "outputs": [],
   "execution_count": null,
   "source": [
    "# Let's plot the resulting filtered lines\n",
    "result = np.copy(img)\n",
    " \n",
    "for line in filtered_lines:\n",
    "    rho = \n",
    "    theta = \n",
    "    ...\n",
    "\n",
    "plt.subplot(121), plt.imshow(edges, cmap='gray'), plt.title('Edge map')\n",
    "plt.subplot(122), plt.imshow(result, cmap='gray'), plt.title('Hough lines')"
   ],
   "id": "4ee554800a96fb55"
  },
  {
   "metadata": {},
   "cell_type": "markdown",
   "source": [
    "The result is now much better, but still we see some very similar lines. How can we get rid of them?\n",
    "* Let's apply k-means clustering. It will find the clusters of the 6 we see in the picture lines and use the averages."
   ],
   "id": "a6191122f59ebe95"
  },
  {
   "metadata": {},
   "cell_type": "code",
   "outputs": [],
   "execution_count": null,
   "source": [
    "# We will apply k-means clustering to refine the detected lines.\n",
    "# Don't worry, we will learn about the clustering later in the course :-)\n",
    "from sklearn.cluster import KMeans\n",
    "kmeans = KMeans(n_clusters=6).fit(filtered_lines)\n",
    "kmeans.cluster_centers_"
   ],
   "id": "eaef6e2e8ca18739"
  },
  {
   "metadata": {},
   "cell_type": "code",
   "outputs": [],
   "execution_count": null,
   "source": [
    "# Again, let's plot the resulting filtered lines\n",
    "result = np.copy(img)\n",
    "    \n",
    "for line in kmeans.cluster_centers_:\n",
    "    rho = \n",
    "    theta = \n",
    "    ...\n",
    "\n",
    "plt.subplot(121), plt.imshow(edges, cmap='gray'), plt.title('Edge map')\n",
    "plt.subplot(122), plt.imshow(result, cmap='gray'), plt.title('Hough lines')"
   ],
   "id": "3211403af091d126"
  },
  {
   "metadata": {},
   "cell_type": "markdown",
   "source": [
    "### Questions\n",
    "* Do you see anything strange in the final result?\n",
    "* Do you think the Hough transform resolution is important for obtaining a good result? Why?\n",
    "* Do you think the Hough transform accumulator threshold is important for obtaining a good result? Why?"
   ],
   "id": "58f36a42a5fbb8f9"
  }
 ],
 "metadata": {
  "kernelspec": {
   "display_name": "Python 3",
   "language": "python",
   "name": "python3"
  },
  "language_info": {
   "codemirror_mode": {
    "name": "ipython",
    "version": 2
   },
   "file_extension": ".py",
   "mimetype": "text/x-python",
   "name": "python",
   "nbconvert_exporter": "python",
   "pygments_lexer": "ipython2",
   "version": "2.7.6"
  }
 },
 "nbformat": 4,
 "nbformat_minor": 5
}
