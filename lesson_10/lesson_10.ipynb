{
 "cells": [
  {
   "metadata": {},
   "cell_type": "code",
   "outputs": [],
   "execution_count": null,
   "source": [
    "import cv2\n",
    "import matplotlib.pyplot as plt\n",
    "\n",
    "# video = cv2.VideoCapture('videos/plane.mp4')\n",
    "video = cv2.VideoCapture('videos/crowd.mp4')\n",
    "ret, frame = video.read()\n",
    "\n",
    "# Ручной выбор объекта\n",
    "bbox = cv2.selectROI(\"select_bbox\", frame, fromCenter=False, showCrosshair=True)\n",
    "cv2.destroyWindow(\"select_bbox\")\n",
    "print(bbox)"
   ],
   "id": "b2e9ab822169e19e"
  },
  {
   "metadata": {},
   "cell_type": "code",
   "outputs": [],
   "execution_count": null,
   "source": [
    "# Список видео с границами объекта\n",
    "VIDEO_SAMPLES = [\n",
    "    {'file_path': 'videos/birds.mp4', 'bbox': (816, 208, 49, 20)},\n",
    "    {'file_path': 'videos/plane.mp4', 'bbox': (1192, 453, 250, 207)},\n",
    "    {'file_path': 'videos/crowd.mp4', 'bbox': (623, 153, 25, 53)},\n",
    "    {'file_path': 'videos/football.mp4', 'bbox': (326, 37, 18, 62)},\n",
    "]\n",
    "\n",
    "# Список трекеров \n",
    "TRACKERS = {\n",
    "    'MIL': (cv2.TrackerMIL.create, (255, 0, 0)),\n",
    "    'KCF': (cv2.legacy.TrackerKCF_create, (0, 255, 0)),\n",
    "    'CSRT': (cv2.legacy.TrackerCSRT_create, (0, 0, 255)),\n",
    "}"
   ],
   "id": "175baa0626e9ab9e"
  },
  {
   "metadata": {},
   "cell_type": "code",
   "outputs": [],
   "execution_count": null,
   "source": [
    "def process_video(tracker_id: str, video_path: str, bbox: tuple):\n",
    "    '''\n",
    "    Метод обрабатывает видео (используя переданные трекер) и добавляет рамку для выделенного объекта.\n",
    "    Результат сохраняется в другом видеофайле\n",
    "    \n",
    "    :param tracker_id: идентификатор трекера\n",
    "    :param video_path: путь к видео файлу\n",
    "    :param bbox: начальные границы объекта на видео\n",
    "    :return: \n",
    "    '''\n",
    "    video = cv2.VideoCapture(video_path)\n",
    "    \n",
    "    # Настройка параметров для output видео\n",
    "    fps = int(video.get(cv2.CAP_PROP_FPS))\n",
    "    frame_width = int(video.get(cv2.CAP_PROP_FRAME_WIDTH))\n",
    "    frame_height = int(video.get(cv2.CAP_PROP_FRAME_HEIGHT))\n",
    "    fourcc = cv2.VideoWriter_fourcc(*'mp4v') \n",
    "    \n",
    "    output_video = f\"videos/{video_path.split('/')[-1].split('.')[0]}_out_{tracker_id}.mp4\"\n",
    "    out = cv2.VideoWriter(output_video, fourcc, fps, (frame_width, frame_height))\n",
    "    \n",
    "    # инициализация трекера\n",
    "    ret, frame = video.read()\n",
    "    tracker = TRACKERS[tracker_id][0]()\n",
    "    colour = TRACKERS[tracker_id][1]    \n",
    "    tracker.init(frame, bbox)\n",
    "    \n",
    "    while True:\n",
    "        ret, frame = video.read()\n",
    "        if not ret:\n",
    "            break\n",
    "        \n",
    "        is_success, bbox = tracker.update(frame)\n",
    "        if is_success:\n",
    "            x, y, w, h = [int(v) for v in bbox]\n",
    "            cv2.rectangle(frame, (x, y), (x + w, y + h), colour, 2)\n",
    "            cv2.putText(frame, tracker_id, (x, y - 10), cv2.FONT_HERSHEY_SIMPLEX, 0.5, colour, 2)\n",
    "            plt.imshow(frame)\n",
    "    \n",
    "        out.write(frame)\n",
    "\n",
    "    video.release()\n",
    "    out.release()\n",
    "    return output_video\n"
   ],
   "id": "5cd6ed3de0be02ec"
  },
  {
   "metadata": {},
   "cell_type": "code",
   "outputs": [],
   "execution_count": null,
   "source": [
    "# обработка видео для трех трекеров MIL, CSRT, KCF\n",
    "for video_sample in VIDEO_SAMPLES:\n",
    "    video_path = video_sample['file_path']\n",
    "    bbox = video_sample['bbox']\n",
    "    process_video('MIL', video_path, bbox)\n",
    "    process_video('CSRT', video_path, bbox)\n",
    "    process_video('KCF', video_path, bbox)"
   ],
   "id": "9c71447815c0604d"
  },
  {
   "metadata": {},
   "cell_type": "markdown",
   "source": "",
   "id": "42aea9ff41bdbda3"
  },
  {
   "metadata": {},
   "cell_type": "markdown",
   "source": [
    "### ИТОГИ\n",
    "####\n",
    "В этой работе сравнивалась работа трех трекеров MIL, CSRT и KCF. При этом использовались разные видео (по качеству, динамике) и отслеживаемые объекты- ( с изменением и без изменения формы, размера; частично заслоненные и скрывающиеся). Анализируя полученные результы можно сделать следующие выводы:\n",
    "\n",
    "**1.** Качество отслеживания зависит от ряда факторов:\n",
    "  - качества видео и динамики сцен\n",
    "  - изначально определенной границы объекта\n",
    "  - используемого трекера\n",
    "\n",
    "**2.** Из всех трекеров **лучшее качество** трекинга показал **CSRT**. Однако время обработки файла самое большое\n",
    "\n",
    "**3.** Быстрее всех работает **KCF**. Однако очень чевствителен к изменяющемуся фону или сильной деформации объекта. Часто объекты терялись из виду.\n",
    "\n",
    "**4.** Трекер **MIL** отработал в ситуациях, когда объект временно пропадает из кадра.\n",
    "\n",
    "Трекер CSRT был самым стабильным, но медленным, а KCF – быстрым, но менее универсальным."
   ],
   "id": "12580686092f905b"
  },
  {
   "metadata": {},
   "cell_type": "markdown",
   "source": [
    "Видео результаты в каталоге [lesson_10/videos](https://github.com/chaplinskij/rd_computer_vision/tree/main/lesson_10/videos)\n",
    "[![Results](https://github.com/chaplinskij/rd_computer_vision/blob/main/lesson_10/image.png?raw=true)](https://github.com/chaplinskij/rd_computer_vision/blob/main/lesson_10/videos/result.MD \"Results\")"
   ],
   "id": "b870d006dc3c6d1e"
  },
  {
   "metadata": {},
   "cell_type": "code",
   "outputs": [],
   "execution_count": null,
   "source": "",
   "id": "d7c6388b2f993ebc"
  }
 ],
 "metadata": {
  "kernelspec": {
   "display_name": "Python 3",
   "language": "python",
   "name": "python3"
  },
  "language_info": {
   "codemirror_mode": {
    "name": "ipython",
    "version": 2
   },
   "file_extension": ".py",
   "mimetype": "text/x-python",
   "name": "python",
   "nbconvert_exporter": "python",
   "pygments_lexer": "ipython2",
   "version": "2.7.6"
  }
 },
 "nbformat": 4,
 "nbformat_minor": 5
}
